{
 "cells": [
  {
   "cell_type": "code",
   "execution_count": 1,
   "metadata": {},
   "outputs": [
    {
     "name": "stdout",
     "output_type": "stream",
     "text": [
      "Populating the interactive namespace from numpy and matplotlib\n"
     ]
    },
    {
     "name": "stderr",
     "output_type": "stream",
     "text": [
      "C:\\Users\\op\\Anaconda2\\lib\\site-packages\\sklearn\\cross_validation.py:41: DeprecationWarning: This module was deprecated in version 0.18 in favor of the model_selection module into which all the refactored classes and functions are moved. Also note that the interface of the new CV iterators are different from that of this module. This module will be removed in 0.20.\n",
      "  \"This module will be removed in 0.20.\", DeprecationWarning)\n",
      "C:\\Users\\op\\Anaconda2\\lib\\site-packages\\sklearn\\learning_curve.py:22: DeprecationWarning: This module was deprecated in version 0.18 in favor of the model_selection module into which all the functions are moved. This module will be removed in 0.20\n",
      "  DeprecationWarning)\n"
     ]
    },
    {
     "data": {
      "text/plain": [
       "<Figure size 432x288 with 0 Axes>"
      ]
     },
     "metadata": {},
     "output_type": "display_data"
    },
    {
     "data": {
      "image/png": "[encoded data removed]",
      "text/plain": [
       "<Figure size 288x288 with 1 Axes>"
      ]
     },
     "metadata": {},
     "output_type": "display_data"
    }
   ],
   "source": [
    "%pylab inline\n",
    "\n",
    "import numpy as np\n",
    "import pandas as pd\n",
    "import matplotlib.pyplot as plt\n",
    "from sklearn import ensemble, cross_validation, learning_curve,  datasets, metrics, tree \n",
    "from sklearn.datasets import load_digits\n",
    "\n",
    "\n",
    "#определяем наш объект\n",
    "digits = load_digits()\n",
    "#выводим изображения для наглядности\n",
    "plt.gray() \n",
    "plt.matshow(digits.images[0]) \n",
    "plt.show() \n",
    "\n",
    "\n",
    "\n",
    "\n",
    "\n",
    "\n",
    "\n"
   ]
  },
  {
   "cell_type": "code",
   "execution_count": 2,
   "metadata": {},
   "outputs": [
    {
     "data": {
      "text/plain": [
       "0.8303290858230152"
      ]
     },
     "execution_count": 2,
     "metadata": {},
     "output_type": "execute_result"
    }
   ],
   "source": [
    "#определяем матрицу признаков, из уловий задачи поле Data должно являться матрицей признаков\n",
    "X = digits['data']\n",
    "#ответы на обучающей выборке\n",
    "y = digits['target']\n",
    "\n",
    "\n",
    "#разбиваем обучающую выборку на две подвыборки - обучающую и тестовую, также и целевые метки разбиваем на две подвыборки\n",
    "#train_data, test_data, train_labels, test_labels = cross_validation.train_test_split(X, y,\n",
    "#                                                                                     test_size = 0.3,\n",
    "#                                                                                     random_state = 1)\n",
    "\n",
    "#определяем модель ВЕРШИНЫ дерева\n",
    "clf = tree.DecisionTreeClassifier()\n",
    "#обучаем модель\n",
    "#clf.fit(train_data, train_labels)\n",
    "\n",
    "#сохраняем предсказания на основе тестовой выборки в отдельную переменную\n",
    "#predictions = clf.predict(test_data)\n",
    "\n",
    "#print metrics.accuracy_score(test_labels, predictions)\n",
    "\n",
    "#cross_validation.cross_val_score (clf)\n",
    "\n",
    "\n",
    "\n",
    "#измеряем качество   работы решающего дерева с помощью cross_val_score\n",
    "#метод fit здесь не нужен, так как мы передаем функцию в качестве аргумента, т.е. само всё обучается\n",
    "massiv_ocenok = cross_validation.cross_val_score(clf, X, y=y, cv = 10)\n",
    "\n",
    "massiv_ocenok.mean()\n",
    " \n",
    " "
   ]
  },
  {
   "cell_type": "code",
   "execution_count": 3,
   "metadata": {},
   "outputs": [
    {
     "data": {
      "text/plain": [
       "0.9254795022479689"
      ]
     },
     "execution_count": 3,
     "metadata": {},
     "output_type": "execute_result"
    }
   ],
   "source": [
    "#теперь применим бэггинг над решающими деревьями\n",
    "from sklearn.ensemble import BaggingClassifier\n",
    "\n",
    "\n",
    "#короче бэггинг - это такой агрегатор алгоритмов. в данном случае в качестве базового алгоритма выступает дерево решений clf\n",
    "#мы делаем 100 таких алгоритмов. задача бэггинга - обучить каждый из 100 деревьев на случайной подвыборке из общей выборки\n",
    "clf_bagging = BaggingClassifier (clf, n_estimators = 100)\n",
    "\n",
    "#теперь в оценочную модель уже подставляем не базовый алгоритм, а аггрегатор алгоритма, которым является беггинг\n",
    "massiv_ocenok = cross_validation.cross_val_score(clf_bagging, X, y=y, cv = 10)\n",
    "\n",
    "massiv_ocenok.mean()\n",
    "\n",
    "\n"
   ]
  },
  {
   "cell_type": "code",
   "execution_count": 13,
   "metadata": {},
   "outputs": [
    {
     "data": {
      "text/plain": [
       "0.9320677733158547"
      ]
     },
     "execution_count": 13,
     "metadata": {},
     "output_type": "execute_result"
    }
   ],
   "source": [
    "#теперь применим бэггинг над решающими деревьями, но с ограничением на количество признаков\n",
    "d = int(np.sqrt (X.shape[1]))#количество признаков равно количеству столбцов матрицы, записываем в отдельную переменную\n",
    "\n",
    "clf_bagging = BaggingClassifier (clf, n_estimators = 100, max_features = d )# max_features - максимальное количество признаков из обучающей выборки для обучения конкретного алгоритма\n",
    "\n",
    "#теперь в оценочную модель уже подставляем не базовый алгоритм, а аггрегатор алгоритма, которым является беггинг\n",
    "massiv_ocenok = cross_validation.cross_val_score(clf_bagging, X, y=y, cv = 10)\n",
    "\n",
    "massiv_ocenok.mean()\n",
    "\n",
    "#print int(np.sqrt (X.shape[1]))\n"
   ]
  },
  {
   "cell_type": "code",
   "execution_count": 19,
   "metadata": {},
   "outputs": [
    {
     "data": {
      "text/plain": [
       "0.951659534381281"
      ]
     },
     "execution_count": 19,
     "metadata": {},
     "output_type": "execute_result"
    }
   ],
   "source": [
    "#попробуем выбирать случайные признаки не один раз на все дерево, а при построении каждой вершины дерева. \n",
    "clf = tree.DecisionTreeClassifier( max_features = 'sqrt')# тут можно ещё добавить параметр splitter =  'random' иногда это влияет на качество модели\n",
    "\n",
    "clf_bagging = BaggingClassifier (clf, n_estimators = 100)\n",
    "\n",
    "massiv_ocenok = cross_validation.cross_val_score(clf_bagging, X, y=y, cv = 10)\n",
    "\n",
    "massiv_ocenok.mean()"
   ]
  },
  {
   "cell_type": "code",
   "execution_count": 21,
   "metadata": {},
   "outputs": [
    {
     "data": {
      "text/plain": [
       "0.9221021396579673"
      ]
     },
     "execution_count": 21,
     "metadata": {},
     "output_type": "execute_result"
    }
   ],
   "source": [
    "#теперь обучим случайный лес на прежнем датасете\n",
    "\n",
    "\n",
    "clf = ensemble.RandomForestClassifier ()\n",
    "massiv_ocenok = cross_validation.cross_val_score(clf, X, y=y, cv = 10)\n",
    "massiv_ocenok.mean()"
   ]
  },
  {
   "cell_type": "code",
   "execution_count": 22,
   "metadata": {},
   "outputs": [
    {
     "data": {
      "text/plain": [
       "0.9532931345514735"
      ]
     },
     "execution_count": 22,
     "metadata": {},
     "output_type": "execute_result"
    }
   ],
   "source": [
    "#теперь обучим случайный лес со 100 деревьями\n",
    "\n",
    "clf = ensemble.RandomForestClassifier (n_estimators = 100)\n",
    "massiv_ocenok = cross_validation.cross_val_score(clf, X, y=y, cv = 10)\n",
    "massiv_ocenok.mean()"
   ]
  },
  {
   "cell_type": "code",
   "execution_count": 23,
   "metadata": {},
   "outputs": [
    {
     "data": {
      "text/plain": [
       "0.881312306195629"
      ]
     },
     "execution_count": 23,
     "metadata": {},
     "output_type": "execute_result"
    }
   ],
   "source": [
    "#теперь обучим случайный лес  на 5 деревьях  \n",
    "\n",
    "clf = ensemble.RandomForestClassifier (n_estimators = 5)\n",
    "massiv_ocenok = cross_validation.cross_val_score(clf, X, y=y, cv = 10)\n",
    "massiv_ocenok.mean()"
   ]
  },
  {
   "cell_type": "code",
   "execution_count": null,
   "metadata": {},
   "outputs": [],
   "source": [
    "#ответы на 5 вопрос 1 2 3 5 7"
   ]
  }
 ],
 "metadata": {
  "kernelspec": {
   "display_name": "Python 2",
   "language": "python",
   "name": "python2"
  },
  "language_info": {
   "codemirror_mode": {
    "name": "ipython",
    "version": 2
   },
   "file_extension": ".py",
   "mimetype": "text/x-python",
   "name": "python",
   "nbconvert_exporter": "python",
   "pygments_lexer": "ipython2",
   "version": "2.7.15"
  }
 },
 "nbformat": 4,
 "nbformat_minor": 2
}
