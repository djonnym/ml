{
 "cells": [
  {
   "cell_type": "markdown",
   "metadata": {},
   "source": [
    "# Задание по теме: Центральная предельная теорема своими руками\n",
    " \n",
    "\n",
    "\n",
    "  "
   ]
  },
  {
   "cell_type": "code",
   "execution_count": 1,
   "metadata": {},
   "outputs": [],
   "source": [
    "# импортируем все необходимые модули \n",
    "import numpy as np\n",
    "import scipy.stats as sts\n",
    "import matplotlib.pyplot as plt\n",
    "\n",
    "%matplotlib inline\n",
    "\n"
   ]
  },
  {
   "cell_type": "markdown",
   "metadata": {},
   "source": [
    "## Для выполнения задания выбрано рапределение Парето\n",
    "Про распределене Парето есть статья в википедии, где приведены все необходимые для расчёта формулы https://ru.wikipedia.org/wiki/%D0%A0%D0%B0%D1%81%D0%BF%D1%80%D0%B5%D0%B4%D0%B5%D0%BB%D0%B5%D0%BD%D0%B8%D0%B5_%D0%9F%D0%B0%D1%80%D0%B5%D1%82%D0%BE"
   ]
  },
  {
   "cell_type": "code",
   "execution_count": 20,
   "metadata": {},
   "outputs": [
    {
     "name": "stdout",
     "output_type": "stream",
     "text": [
      "Мат. ожидание: 1.25\n",
      "Дисперсия: 2.60416666667\n"
     ]
    }
   ],
   "source": [
    "#оставляем значение по умолчанию \n",
    "x_m = 1.\n",
    "\n",
    "# Задаём первый параметр, пусть он будет равен 5\n",
    "param = 5.\n",
    "\n",
    "#вычислим математическое ожидание (или среднее значение)\n",
    "mat = (x_m * param)/(param-1)\n",
    "# когда известно мат ожидание, то находим дисперсию\n",
    "disp=(mat ** 2)*(param/(param-2))#дисперсия\n",
    "\n",
    "# выведем на экран мат ожидание \n",
    "print 'Мат. ожидание:', mat\n",
    "#выведем на экран дисперсию\n",
    "print 'Дисперсия:', disp\n"
   ]
  },
  {
   "cell_type": "markdown",
   "metadata": {},
   "source": [
    "## Согласно задания сгенерируем первоначальную выборку. Объём = 1000, построим гистограммму и нарисуем поверх неё теоретичискую плотность распределения.\n"
   ]
  },
  {
   "cell_type": "code",
   "execution_count": 21,
   "metadata": {},
   "outputs": [
    {
     "data": {
      "text/plain": [
       "Text(0.5,0,'$x$')"
      ]
     },
     "execution_count": 21,
     "metadata": {},
     "output_type": "execute_result"
    },
    {
     "data": {
      "image/png": "[encoded data removed]",
      "text/plain": [
       "<Figure size 432x288 with 1 Axes>"
      ]
     },
     "metadata": {},
     "output_type": "display_data"
    }
   ],
   "source": [
    "#определяем функцию и задаём параметр кривизны\n",
    "pareto_func = sts.pareto(b=5)\n",
    "#собственно генерация выборки размером в 1000\n",
    "sample = pareto_func.rvs(1000)\n",
    "#плотность распределения - намечаем точки по оси ординат\n",
    "os_x = np.linspace(1, 10, 1000)\n",
    "pdf = pareto_func.pdf(os_x)\n",
    "#теоретическая функция распределения\n",
    "plt.plot(os_x, pdf, label='PDF (theory)')\n",
    "#гистограмма выборки\n",
    "plt.hist(sample, bins =100, range=(1,10), normed=True)\n",
    "plt.legend(loc='upper left')\n",
    "plt.ylabel('$f(x)$')\n",
    "plt.xlabel('$x$')\n",
    "\n",
    "\n"
   ]
  },
  {
   "cell_type": "markdown",
   "metadata": {},
   "source": [
    "##  Оценка аспределения выборочного среднего нашей случайной величины при разных объёмах выборок (n=5,n=10,n=50, n=200)"
   ]
  },
  {
   "cell_type": "code",
   "execution_count": 22,
   "metadata": {},
   "outputs": [
    {
     "data": {
      "text/plain": [
       "Text(0.5,0,'$x$')"
      ]
     },
     "execution_count": 22,
     "metadata": {},
     "output_type": "execute_result"
    },
    {
     "data": {
      "image/png": "[encoded data removed]",
      "text/plain": [
       "<Figure size 432x288 with 1 Axes>"
      ]
     },
     "metadata": {},
     "output_type": "display_data"
    }
   ],
   "source": [
    "#первый раз считаем для n=5\n",
    "n = 5\n",
    "#создаем массив выборки\n",
    "sample_n = np.array([])\n",
    "\n",
    "#проходимся циклом для вычисления выборочного среднего и добавления его значений в массив\n",
    "for i in range (1,1001):#range сгенерирует значения от 1 до 1000, 1001 не включается\n",
    "    #генерируем выборку Парето из n\n",
    "    gener_from_i = pareto_func.rvs(n)\n",
    "    #определяем выборочное среднее \n",
    "    vibor_srednee=sum(gener_from_i)/n\n",
    "    #методом append добавляем в конец массива значения текущей итерации цикла for\n",
    "    sample_n=np.append(sample_n,vibor_srednee)\n",
    "\n",
    "#дисперсия для n\n",
    "disp_n = disp/n\n",
    "#среднеквадратическое отклонение \n",
    "sigma_n = np.sqrt(disp_n)\n",
    "#используем полученные значения Парето в нормальном рапределении\n",
    "norma_n = sts.norm (mat, sigma_n)\n",
    "#плотность\n",
    "pdf_n = norma_n.pdf (os_x[:500])\n",
    "#рисуем гистограмму\n",
    "plt.plot (os_x[:500], pdf_n, label='n=5, PDF')\n",
    "plt.hist (sample_n, bins =100, range=(0,5), normed=True)\n",
    "plt.legend (loc='upper left')\n",
    "plt.ylabel ('sample_n')\n",
    "plt.xlabel ('$x$')"
   ]
  },
  {
   "cell_type": "code",
   "execution_count": 23,
   "metadata": {},
   "outputs": [
    {
     "data": {
      "text/plain": [
       "Text(0.5,0,'$x$')"
      ]
     },
     "execution_count": 23,
     "metadata": {},
     "output_type": "execute_result"
    },
    {
     "data": {
      "image/png": "[encoded data removed]",
      "text/plain": [
       "<Figure size 432x288 with 1 Axes>"
      ]
     },
     "metadata": {},
     "output_type": "display_data"
    }
   ],
   "source": [
    "#считаем для n=10\n",
    "n = 10\n",
    "#создаем массив выборки\n",
    "sample_n = np.array([])\n",
    "\n",
    "#проходимся циклом для вычисления выборочного среднего и добавления его значений в массив\n",
    "for i in range (1,1001):#range сгенерирует значения от 1 до 1000, 1001 не включается\n",
    "    #генерируем выборку Парето из n\n",
    "    gener_from_i = pareto_func.rvs(n)\n",
    "    #определяем выборочное среднее \n",
    "    vibor_srednee=sum(gener_from_i)/n\n",
    "    #методом append добавляем в конец массива значения текущей итерации цикла for\n",
    "    sample_n=np.append(sample_n,vibor_srednee)\n",
    "\n",
    "#дисперсия для n\n",
    "disp_n = disp/n\n",
    "#среднеквадратическое отклонение \n",
    "sigma_n = np.sqrt(disp_n)\n",
    "#используем полученные значения Парето в нормальном рапределении\n",
    "norma_n = sts.norm (mat, sigma_n)\n",
    "#плотность\n",
    "pdf_n = norma_n.pdf (os_x[:500])\n",
    "#рисуем гистограмму\n",
    "plt.plot (os_x[:500], pdf_n, label='n=10, PDF')\n",
    "plt.hist (sample_n, bins =100, range=(0,3), normed=True)\n",
    "plt.legend (loc='upper left')\n",
    "plt.ylabel ('sample_n')\n",
    "plt.xlabel ('$x$')"
   ]
  },
  {
   "cell_type": "code",
   "execution_count": 24,
   "metadata": {},
   "outputs": [
    {
     "data": {
      "text/plain": [
       "Text(0.5,0,'$x$')"
      ]
     },
     "execution_count": 24,
     "metadata": {},
     "output_type": "execute_result"
    },
    {
     "data": {
      "image/png": "[encoded data removed]",
      "text/plain": [
       "<Figure size 432x288 with 1 Axes>"
      ]
     },
     "metadata": {},
     "output_type": "display_data"
    }
   ],
   "source": [
    "#считаем для n=50\n",
    "n = 50\n",
    "#создаем массив выборки\n",
    "sample_n = np.array([])\n",
    "\n",
    "#проходимся циклом для вычисления выборочного среднего и добавления его значений в массив\n",
    "for i in range (1,1001):#range сгенерирует значения от 1 до 1000, 1001 не включается\n",
    "    #генерируем выборку Парето из n\n",
    "    gener_from_i = pareto_func.rvs(n)\n",
    "    #определяем выборочное среднее \n",
    "    vibor_srednee=sum(gener_from_i)/n\n",
    "    #методом append добавляем в конец массива значения текущей итерации цикла for\n",
    "    sample_n=np.append(sample_n,vibor_srednee)\n",
    "\n",
    "#дисперсия для n\n",
    "disp_n = disp/n\n",
    "#среднеквадратическое отклонение \n",
    "sigma_n = np.sqrt(disp_n)\n",
    "#используем полученные значения Парето в нормальном рапределении\n",
    "norma_n = sts.norm (mat, sigma_n)\n",
    "#плотность\n",
    "pdf_n = norma_n.pdf (os_x[:500])\n",
    "#рисуем гистограмму\n",
    "plt.plot (os_x[:500], pdf_n, label='n=50, PDF')\n",
    "plt.hist (sample_n, bins =100, range=(0,3), normed=True)\n",
    "plt.legend (loc='upper left')\n",
    "plt.ylabel ('sample_n')\n",
    "plt.xlabel ('$x$')\n"
   ]
  },
  {
   "cell_type": "code",
   "execution_count": 26,
   "metadata": {},
   "outputs": [
    {
     "data": {
      "text/plain": [
       "Text(0.5,0,'$x$')"
      ]
     },
     "execution_count": 26,
     "metadata": {},
     "output_type": "execute_result"
    },
    {
     "data": {
      "image/png": "[encoded data removed]",
      "text/plain": [
       "<Figure size 432x288 with 1 Axes>"
      ]
     },
     "metadata": {},
     "output_type": "display_data"
    }
   ],
   "source": [
    "#считаем для n=200\n",
    "n = 200\n",
    "#создаем массив выборки\n",
    "sample_n = np.array([])\n",
    "\n",
    "#проходимся циклом для вычисления выборочного среднего и добавления его значений в массив\n",
    "for i in range (1,1001):#range сгенерирует значения от 1 до 1000, 1001 не включается\n",
    "    #генерируем выборку Парето из n\n",
    "    gener_from_i = pareto_func.rvs(n)\n",
    "    #определяем выборочное среднее \n",
    "    vibor_srednee=sum(gener_from_i)/n\n",
    "    #методом append добавляем в конец массива значения текущей итерации цикла for\n",
    "    sample_n=np.append(sample_n,vibor_srednee)\n",
    "\n",
    "#дисперсия для n\n",
    "disp_n = disp/n\n",
    "#среднеквадратическое отклонение \n",
    "sigma_n = np.sqrt(disp_n)\n",
    "#используем полученные значения Парето в нормальном рапределении\n",
    "norma_n = sts.norm (mat, sigma_n)\n",
    "#плотность\n",
    "pdf_n = norma_n.pdf (os_x[:500])\n",
    "#рисуем гистограмму\n",
    "plt.plot (os_x[:500], pdf_n, label='n=50, PDF')\n",
    "plt.hist (sample_n, bins =100, range=(0,3), normed=True)\n",
    "plt.legend (loc='upper left')\n",
    "plt.ylabel ('sample_n')\n",
    "plt.xlabel ('$x$')"
   ]
  },
  {
   "cell_type": "markdown",
   "metadata": {},
   "source": [
    "## Вывод по результатам исследования.\n",
    "В данной работе исследована функция Парето с целью оценки распределения   выборочного среднего   случайной величины. С ростом объёма выборок  увеличивается точность приближения к нормальному распределению непрерывной случайной величины.   Наибольшая сходимость функции достигается при выборе значения n = 200. Очевидно, что при дальнейшем увеличении параметра n точность аппроксимации продолжит возрастать."
   ]
  },
  {
   "cell_type": "code",
   "execution_count": null,
   "metadata": {},
   "outputs": [],
   "source": []
  }
 ],
 "metadata": {
  "kernelspec": {
   "display_name": "Python 2",
   "language": "python",
   "name": "python2"
  },
  "language_info": {
   "codemirror_mode": {
    "name": "ipython",
    "version": 2
   },
   "file_extension": ".py",
   "mimetype": "text/x-python",
   "name": "python",
   "nbconvert_exporter": "python",
   "pygments_lexer": "ipython2",
   "version": "2.7.15"
  }
 },
 "nbformat": 4,
 "nbformat_minor": 2
}
