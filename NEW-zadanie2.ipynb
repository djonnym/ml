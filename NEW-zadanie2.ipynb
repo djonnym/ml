{
 "cells": [
  {
   "cell_type": "code",
   "execution_count": 15,
   "metadata": {},
   "outputs": [
    {
     "name": "stdout",
     "output_type": "stream",
     "text": [
      "[1. 0. 1. 0. 0. 1. 2. 1. 2. 0. 2. 1. 2. 1. 0. 0. 1. 0. 1. 2. 1. 1.]\n",
      "количесство совпадений the - правильный ответ \n",
      "[1, 0, 1, 0, 0, 1, 2, 1, 2, 0, 2, 1, 2, 1, 0, 0, 1, 0, 1, 2, 1, 1]\n",
      "[0.0, 0.9527544408738466, 0.8644738145642124, 0.8951715163278082, 0.7770887149698589, 0.9402385695332803, 0.7327387580875756, 0.9258750683338899, 0.8842724875284311, 0.9055088817476932, 0.8328165362273942, 0.8804771390665607, 0.8396432548525454, 0.8703592552895671, 0.8740118423302576, 0.9442721787424647, 0.8406361854220809, 0.956644501523794, 0.9442721787424647, 0.8885443574849294, 0.8427572744917122, 0.8250364469440588]\n"
     ]
    },
    {
     "data": {
      "text/plain": [
       "(0, 6, 4)"
      ]
     },
     "execution_count": 15,
     "metadata": {},
     "output_type": "execute_result"
    }
   ],
   "source": [
    "import re#импортируем модуль регулярных выражений  \n",
    "import numpy\n",
    "\n",
    "#открытие файла для чтения с помощью встроенной функции open\n",
    "file_obj = open('sentences.txt', 'r')\n",
    "content = file_obj.read()#сохраняем содержимое файла в СТРОКУ\n",
    "file_obj.close()\n",
    "\n",
    "file_obj = open('sentences.txt', 'r')\n",
    "list_content = file_obj.readlines()#сохраняем содержимое файла в СПИСОК\n",
    "\n",
    "file_obj.close()\n",
    "\n",
    "#приводим предложения в списке к нижнему регистру\n",
    "start = 0\n",
    "for predlozhenie in list_content:\n",
    "    list_content[start] = predlozhenie.lower()\n",
    "    start +=1\n",
    "\n",
    "content = content.lower()#переводим СТРОКУ в нижний регистр\n",
    "\n",
    "slova = re.split('[^a-z]', content)  #делаем токенизацию, т.е. разделяем на слова, большой список всех слов\n",
    "slova=filter(lambda x: len(x)>0,slova)#фильтруем наш список. в результате остаются элементы, длина которых больше нуля,т.е. отсеиваются пустые строки\n",
    "\n",
    "slova = list (set(slova))#удаляем дубли c помощью трансформации списка в множество, а потом обратно в список\n",
    "\n",
    " \n",
    "nash_array = numpy.zeros((len(list_content), len (slova)))#создаем матрицу с нулевыми значениями, потом будет некоторые нули заполнять данными, остальные останутся нулями\n",
    "\n",
    " \n",
    "index_i = 0 #считаем итерации i\n",
    "for i in list_content: #i - это строка из списка предложений. т.е. первое предложение и т.д.\n",
    "     \n",
    "      \n",
    "    index_x = 0 #считаем итерации x\n",
    "    for x in slova: #x - это слова из списка слов\n",
    "        \n",
    "         pattern =  '(^|[^a-z])' + x + '([^a-z]|$)'#шаблон для поиска вхождений слов, который исключает совпадения в словах, где искомое слово х может быть частью другого длинного слова, например предлогом или окончанием длинного слова\n",
    "         nash_array[index_i][index_x] = len (re.findall(pattern, i)) #записываем в соответствующую ячейку матрицы количество вхождений слова x в предложение i\n",
    "         \n",
    "    \n",
    "            \n",
    "         index_x += 1     \n",
    "    index_i += 1\n",
    "\n",
    "   \n",
    "from scipy.spatial import distance\n",
    "\n",
    "\n",
    "cosine_result = []#создаем словарь, куда будет записывать результаты просчёта\n",
    " \n",
    "for row in nash_array:\n",
    "    \n",
    "    cosine_result.append(distance.cosine(nash_array[0,:], row))#считаем косинусное расстояние от нулевой первой строки до остальных, результат каждой итерации автоматически методом append автоматически добавляется в конец списка\n",
    "\n",
    "\n",
    "from heapq import nsmallest#импортируем интересную функцию, которая выдаёт минимальные значения из списка\n",
    "\n",
    "#по заданию нам необходимо получить два минимальных косинусных расстояния от нулевой строки, но так как самое минимальное расстояние будет нуль, т.е. косинусное расстояние до нулевой строки, то получаем не два, а ТРИ значения, соответственно перввое будет нулевым, а два других как раз нужные нам\n",
    "a, b, c = map(cosine_result.index, nsmallest(3, cosine_result))#три минимальных значения мы записали в три произвольных переменных a,b,c\n",
    " \n",
    "print cosine_result    \n",
    "    \n",
    "a,b,c   "
   ]
  },
  {
   "cell_type": "code",
   "execution_count": null,
   "metadata": {},
   "outputs": [],
   "source": []
  },
  {
   "cell_type": "code",
   "execution_count": null,
   "metadata": {},
   "outputs": [],
   "source": []
  },
  {
   "cell_type": "code",
   "execution_count": null,
   "metadata": {},
   "outputs": [],
   "source": []
  }
 ],
 "metadata": {
  "kernelspec": {
   "display_name": "Python 2",
   "language": "python",
   "name": "python2"
  },
  "language_info": {
   "codemirror_mode": {
    "name": "ipython",
    "version": 2
   },
   "file_extension": ".py",
   "mimetype": "text/x-python",
   "name": "python",
   "nbconvert_exporter": "python",
   "pygments_lexer": "ipython2",
   "version": "2.7.15"
  }
 },
 "nbformat": 4,
 "nbformat_minor": 2
}
