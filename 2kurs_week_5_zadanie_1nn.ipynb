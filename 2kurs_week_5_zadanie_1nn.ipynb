{
 "cells": [
  {
   "cell_type": "code",
   "execution_count": 14,
   "metadata": {},
   "outputs": [
    {
     "name": "stdout",
     "output_type": "stream",
     "text": [
      "скрипт выполнен\n"
     ]
    }
   ],
   "source": [
    "import numpy as np\n",
    "import pandas as pd\n",
    "from sklearn import cross_validation,  datasets, metrics\n",
    "from sklearn.cross_validation import train_test_split\n",
    "\n",
    "#определяем наш объект\n",
    "digits = datasets.load_digits()\n",
    "\n",
    "#определяем матрицу признаков, из уловий задачи поле Data должно являться матрицей признаков\n",
    "X = digits.data\n",
    "#ответы на обучающей выборке\n",
    "y = digits.target\n",
    "\n",
    "def non_shuffling_train_test_split(X, y, test_size=0.25):\n",
    "    i = int((1 - test_size) * X.shape[0]) + 1\n",
    "    X_train, X_test = np.split(X, [i])\n",
    "    y_train, y_test = np.split(y, [i])\n",
    "    return X_train, X_test, y_train, y_test\n",
    "\n",
    "#X_train, X_test, y_train, y_test = train_test_split(X, y, shuffle=False)\n",
    "X_train, X_test, y_train, y_test = non_shuffling_train_test_split(X, y,test_size=0.25)\n",
    "\n",
    "print 'скрипт выполнен'"
   ]
  },
  {
   "cell_type": "code",
   "execution_count": 4,
   "metadata": {},
   "outputs": [],
   "source": [
    "#dist = np.linalg.norm(a-b)#расстояния между векторами\n",
    "\n",
    "#Алгоритм выполнения\n",
    "#1) Берем вектор признаков, которому нужно присвоить класс из выборки X_train \n",
    "#2) Считаем расстояния между этим вектором и всеми остальными векторами признаков\n",
    "#3) Создаем новый список и Записываем в него эти расстояния вместе с ответами из y_train   в таком виде [ [0.34345 , 4], [0.65674 , 7] ] здесь первый элементы списка расстояние,\n",
    "# между векторами признаков, а второй элемент метка вектора признаков y_train до которого мы считали расстояние. получается, что такой список из попарных списков\n",
    "# создается каждый раз для каждого нового вектора из X_train, который нужно классифицировать\n",
    "\n",
    "\n",
    "#slovar_nomer = []#этот список нужно создавать именно до цикла, чтобы он не обнулялся\n",
    "\n",
    "#for i in  X_train:#элекмент i это целый вектор в массиве признаков\n",
    "#    distanse = []#создаем список внутри цикла, чтобы он обнулялся\n",
    "#    for number, i_2 in  enumerate (X_train):#number - это номер итерации, переменная i_2  - это вектор\n",
    "#        metka_klassa = y_train [number]\n",
    "#        rasstoyanie = np.linalg.norm(i-i_2)#Считаем расстояния между текущим вектором и всеми остальными векторами признаков и \n",
    "#        para = [rasstoyanie, metka_klassa]\n",
    "#        distanse.append (para)#записываем пару в список distanse \n",
    "         \n",
    "#    slovar_nomer.append (distanse)#записываем вектора расстояний\n",
    "        \n",
    "#print slovar_nomer [3]  \n",
    " \n",
    "\n"
   ]
  },
  {
   "cell_type": "code",
   "execution_count": 15,
   "metadata": {},
   "outputs": [
    {
     "name": "stdout",
     "output_type": "stream",
     "text": [
      "скрипт выполнен\n"
     ]
    }
   ],
   "source": [
    "#теперь напишем функцию, которая на ввод принимает вектора признаков из X_test, считает расстояния до всех векторов X_train, а затем выводит ближайший \n",
    "#вектор из X_train и его метку класса из y_train\n",
    "\n",
    "def prediction_One_NN(X_test, X_train, y_train):#на выходе должен получаться вектор с предсказаниями\n",
    "    slovar_nomer = []#этот список нужно создавать именно до цикла, чтобы он не обнулялся\n",
    "    for i in  X_test:#элекмент i это целый вектор в массиве признаков тестовой выборки\n",
    "        distanse_list = []#создаем список внутри цикла, чтобы он обнулялся, переменная перезаписывается для каждого нового вектора, который нужно сравнить с другими векторами\n",
    "        metka_klassa_list = []\n",
    "        for number, i_2 in  enumerate (X_train):#number - это номер итерации, переменная i_2  - это вектор\n",
    "            distanse = np.linalg.norm(i-i_2)#Считаем расстояния между текущим вектором и всеми остальными векторами признаков и \n",
    "            metka_klassa = y_train [number]\n",
    "            distanse_list.append (distanse)#записываем расстояние в список расстояний distanse \n",
    "            metka_klassa_list.append (metka_klassa) \n",
    "        para = [distanse_list, metka_klassa_list]\n",
    "        slovar_nomer.append (para)#записываем  расстояния до векторов и метки класса\n",
    "\n",
    "    # на выходе мы получили список slovar_nomer, где первый элемент slovar_nomer[0] соответствует первому вектору, которому мы пытаемся присвоить класс. \n",
    "    #slovar_nomer[0] Содержит slovar_nomer[0] [0] и slovar_nomer[0] [1] \n",
    "    # slovar_nomer[0][0] это список всех расстояний от первого вектора X_test до всех векторов X_train\n",
    "    #slovar_nomer[0] [1]  содержит все метки классов векторов, расстояние до которых известно в векторе slovar_nomer[0][0]\n",
    "\n",
    "    predict_list = []\n",
    "    for i_3 in range (len(slovar_nomer)):\n",
    "        #находим индекс элемента с минимальным расстоянием для первого (нулевого) вектора\n",
    "        index_min_element = slovar_nomer[i_3][0].index(min(slovar_nomer[i_3][0]))\n",
    "        #подставляем индекс в список slovar_nomer и получаем метку ближайшего по расстоянию класса  \n",
    "        predict = slovar_nomer[i_3][1][index_min_element]\n",
    "        predict_list.append(predict)\n",
    "    \n",
    "    return predict_list#возвращаем лист с предсказаниями\n",
    "\n",
    "predict  = prediction_One_NN (X_test, X_train, y_train)#получаем список прогнозов\n",
    "\n",
    "\n",
    "print 'скрипт выполнен'\n"
   ]
  },
  {
   "cell_type": "code",
   "execution_count": 16,
   "metadata": {},
   "outputs": [
    {
     "name": "stdout",
     "output_type": "stream",
     "text": [
      "доля НЕправильных ответов:  0.03786191536748329\n"
     ]
    }
   ],
   "source": [
    "#теперь нужно сравнить списки predict и y_train\n",
    "from sklearn.metrics import accuracy_score\n",
    "\n",
    "accuracy_score (y_test, predict)#доля правильных ответов\n",
    "print 'доля НЕправильных ответов: ', 1-accuracy_score (y_test, predict)#доля НЕправильных ответов"
   ]
  },
  {
   "cell_type": "code",
   "execution_count": 18,
   "metadata": {},
   "outputs": [
    {
     "name": "stdout",
     "output_type": "stream",
     "text": [
      "Случайный лес. Доля НЕправильных ответов:  0.06458797327394206\n"
     ]
    }
   ],
   "source": [
    "#теперь обучим randomforest\n",
    "\n",
    "from sklearn.ensemble import RandomForestClassifier\n",
    "clf = RandomForestClassifier (n_estimators=1000)\n",
    "clf.fit (X_train, y_train)\n",
    "accuracy_score (y_test, clf.predict (X_test))#доля правильных ответов \n",
    "print 'Случайный лес. Доля НЕправильных ответов: ', 1-accuracy_score (y_test, clf.predict (X_test))#доля НЕправильных ответов "
   ]
  },
  {
   "cell_type": "code",
   "execution_count": null,
   "metadata": {},
   "outputs": [],
   "source": []
  }
 ],
 "metadata": {
  "kernelspec": {
   "display_name": "Python 2",
   "language": "python",
   "name": "python2"
  },
  "language_info": {
   "codemirror_mode": {
    "name": "ipython",
    "version": 2
   },
   "file_extension": ".py",
   "mimetype": "text/x-python",
   "name": "python",
   "nbconvert_exporter": "python",
   "pygments_lexer": "ipython2",
   "version": "2.7.15"
  }
 },
 "nbformat": 4,
 "nbformat_minor": 2
}
